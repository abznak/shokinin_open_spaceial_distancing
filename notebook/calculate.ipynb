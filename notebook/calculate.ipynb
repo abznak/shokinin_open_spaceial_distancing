{
  "nbformat": 4,
  "nbformat_minor": 0,
  "metadata": {
    "colab": {
      "name": "Open Space-ial Distancing",
      "provenance": [],
      "collapsed_sections": [],
      "toc_visible": true
    },
    "kernelspec": {
      "name": "python3",
      "display_name": "Python 3"
    }
  },
  "cells": [
    {
      "cell_type": "code",
      "metadata": {
        "id": "JFHEB36xOneB",
        "colab_type": "code",
        "colab": {}
      },
      "source": [
        "# From https://github.com/abznak/shokinin_open_spaceial_distancing\n",
        "\n",
        "import numpy as np\n",
        "from collections import namedtuple\n",
        "from skimage.morphology import flood_fill\n",
        "\n",
        "SAMPLES = 100000\n",
        "\n",
        "DESKROW_EXIT = 0\n",
        "\n",
        "DESK_EMPTY = 0\n",
        "DESK_FULL = 1\n",
        "DESK_PATH = 2\n",
        "\n",
        "OFFICE_SIDE_LENGTH = 10\n",
        "OFFICE_DIMENSIONS = [OFFICE_SIDE_LENGTH, OFFICE_SIDE_LENGTH]\n",
        "\n",
        "Office = namedtuple('Office', 'start_col desks')\n",
        "\n",
        "\n",
        "# p is probably a desk is occupied\n",
        "def build_random_office(p):\n",
        "    desks_rolls = np.random.rand(*OFFICE_DIMENSIONS)\n",
        "    convert_rolls_to_desk_state = np.vectorize(lambda roll: DESK_FULL if roll <= p else DESK_EMPTY)\n",
        "    desks = convert_rolls_to_desk_state(desks_rolls)\n",
        "    start_col = np.random.randint(0, OFFICE_SIDE_LENGTH)\n",
        "    return Office(start_col, desks)\n",
        "\n",
        "\n",
        "def office_generator(n, p, build_random_office_fn=build_random_office):\n",
        "    return (build_random_office_fn(p) for x in range(n))\n",
        "\n",
        "\n",
        "def office_has_path(office):\n",
        "    desks = np.copy(office.desks)\n",
        "    start_col = office.start_col\n",
        "    start_row = desks.shape[0] - 1\n",
        "\n",
        "    # When you stand up, your desk becomes empty\n",
        "    desks[start_row, start_col] = DESK_EMPTY\n",
        "\n",
        "    # draw a path everywhere you can reach\n",
        "    desks_with_path = flood_fill(desks, (start_row, start_col), DESK_PATH)\n",
        "\n",
        "    # look for a path to any desk in the exit row\n",
        "    path_found = any(DESK_PATH == desk for desk in desks_with_path[DESKROW_EXIT])\n",
        "\n",
        "    return path_found\n",
        "\n",
        "\n",
        "# Return the proportion of offices that had a path\n",
        "#\n",
        "# Why is it called percentage when it's a fraction?  Because that's the language the problem used.\n",
        "def percentage_of_offices_with_a_path(my_office_generator, office_has_path_fn=office_has_path):\n",
        "    return np.mean([1 if office_has_path_fn(office) else 0 for office in my_office_generator])\n",
        "\n",
        "\n",
        "def get_results(n, my_percentage_of_offices_with_a_path=percentage_of_offices_with_a_path):\n",
        "    empty_ps = np.linspace(1, 0, 11)\n",
        "\n",
        "    def calculate_percentage(empty_p):\n",
        "        generator = office_generator(n, empty_p)\n",
        "        return my_percentage_of_offices_with_a_path(generator)\n",
        "\n",
        "    results = ((empty_p, calculate_percentage(empty_p)) for empty_p in empty_ps)\n",
        "    return results\n",
        "\n",
        "\n",
        "def format_output(n, results):\n",
        "    lines = [f'{res[0]:.1f}: {res[1]:.3f}' for res in results]\n",
        "\n",
        "    return f\"Number of samples for each p: {n}\\n\" + (\"\\n\".join(lines)) + \"\\n\"\n",
        "\n",
        "\n",
        "def get_formatted_output(n, my_percentage_of_offices_with_a_path=percentage_of_offices_with_a_path):\n",
        "    results = get_results(n, my_percentage_of_offices_with_a_path)\n",
        "    return format_output(n, results)\n",
        "\n",
        "\n",
        "def main():\n",
        "    print(get_formatted_output(SAMPLES))\n",
        "\n",
        "\n",
        "if __name__ == \"__main__\":\n",
        "    main()\n"
      ],
      "execution_count": 0,
      "outputs": []
    },
    {
      "cell_type": "code",
      "metadata": {
        "id": "tVKe5EkKOrkr",
        "colab_type": "code",
        "colab": {}
      },
      "source": [
        ""
      ],
      "execution_count": 0,
      "outputs": []
    },
    {
      "cell_type": "code",
      "metadata": {
        "id": "C4GodNlROsn7",
        "colab_type": "code",
        "colab": {}
      },
      "source": [
        ""
      ],
      "execution_count": 0,
      "outputs": []
    }
  ]
}